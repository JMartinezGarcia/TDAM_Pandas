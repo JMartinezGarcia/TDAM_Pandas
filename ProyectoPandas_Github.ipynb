{
 "cells": [
  {
   "cell_type": "markdown",
   "metadata": {},
   "source": [
    "# Proyecto 1. Pandas\n",
    "Con el fichero Fichero `sample_NYC_parking_issues.csv`\n",
    "\n",
    "\n",
    "**Importante:** los cambios se arrastran en las siguientes preguntas.\n",
    "\n",
    "\n",
    "### Crea un proyecto en Github para esta entrega e incluye un fichero Readme.md\n",
    "Asegurate que es público ya que solo se puede entregar la URL del proyecto en github.\n",
    "<hr/>"
   ]
  },
  {
   "cell_type": "markdown",
   "metadata": {},
   "source": []
  },
  {
   "cell_type": "markdown",
   "metadata": {},
   "source": [
    "### A) Limpia el dataframe de aquellas columnas con todos sus campos a NAN"
   ]
  },
  {
   "cell_type": "code",
   "execution_count": 6,
   "metadata": {},
   "outputs": [
    {
     "data": {
      "text/html": [
       "<div>\n",
       "<style scoped>\n",
       "    .dataframe tbody tr th:only-of-type {\n",
       "        vertical-align: middle;\n",
       "    }\n",
       "\n",
       "    .dataframe tbody tr th {\n",
       "        vertical-align: top;\n",
       "    }\n",
       "\n",
       "    .dataframe thead th {\n",
       "        text-align: right;\n",
       "    }\n",
       "</style>\n",
       "<table border=\"1\" class=\"dataframe\">\n",
       "  <thead>\n",
       "    <tr style=\"text-align: right;\">\n",
       "      <th></th>\n",
       "      <th>Unnamed: 0</th>\n",
       "      <th>Summons Number</th>\n",
       "      <th>Plate ID</th>\n",
       "      <th>Registration State</th>\n",
       "      <th>Plate Type</th>\n",
       "      <th>Issue Date</th>\n",
       "      <th>Violation Code</th>\n",
       "      <th>Vehicle Body Type</th>\n",
       "      <th>Vehicle Make</th>\n",
       "      <th>Issuing Agency</th>\n",
       "      <th>...</th>\n",
       "      <th>Days Parking In Effect</th>\n",
       "      <th>From Hours In Effect</th>\n",
       "      <th>To Hours In Effect</th>\n",
       "      <th>Vehicle Color</th>\n",
       "      <th>Unregistered Vehicle?</th>\n",
       "      <th>Vehicle Year</th>\n",
       "      <th>Meter Number</th>\n",
       "      <th>Feet From Curb</th>\n",
       "      <th>Violation Post Code</th>\n",
       "      <th>Violation Description</th>\n",
       "    </tr>\n",
       "  </thead>\n",
       "  <tbody>\n",
       "    <tr>\n",
       "      <th>0</th>\n",
       "      <td>7192124</td>\n",
       "      <td>7684215310</td>\n",
       "      <td>24824MD</td>\n",
       "      <td>NY</td>\n",
       "      <td>COM</td>\n",
       "      <td>04/23/2014</td>\n",
       "      <td>71</td>\n",
       "      <td>VAN</td>\n",
       "      <td>FRIG</td>\n",
       "      <td>T</td>\n",
       "      <td>...</td>\n",
       "      <td>YYYYYYY</td>\n",
       "      <td>NaN</td>\n",
       "      <td>NaN</td>\n",
       "      <td>WH</td>\n",
       "      <td>NaN</td>\n",
       "      <td>2004.0</td>\n",
       "      <td>NaN</td>\n",
       "      <td>0.0</td>\n",
       "      <td>01 4</td>\n",
       "      <td>71A-Insp Sticker Expired (NYS)</td>\n",
       "    </tr>\n",
       "    <tr>\n",
       "      <th>1</th>\n",
       "      <td>1399831</td>\n",
       "      <td>5070680213</td>\n",
       "      <td>9TOPCLAS</td>\n",
       "      <td>NY</td>\n",
       "      <td>OMT</td>\n",
       "      <td>09/14/2013</td>\n",
       "      <td>7</td>\n",
       "      <td>4DSD</td>\n",
       "      <td>DODGE</td>\n",
       "      <td>V</td>\n",
       "      <td>...</td>\n",
       "      <td>NaN</td>\n",
       "      <td>NaN</td>\n",
       "      <td>NaN</td>\n",
       "      <td>BK</td>\n",
       "      <td>NaN</td>\n",
       "      <td>2008.0</td>\n",
       "      <td>NaN</td>\n",
       "      <td>0.0</td>\n",
       "      <td>NaN</td>\n",
       "      <td>FAILURE TO STOP AT RED LIGHT</td>\n",
       "    </tr>\n",
       "    <tr>\n",
       "      <th>2</th>\n",
       "      <td>5369188</td>\n",
       "      <td>1356951855</td>\n",
       "      <td>GEL1573</td>\n",
       "      <td>NY</td>\n",
       "      <td>PAS</td>\n",
       "      <td>02/13/2014</td>\n",
       "      <td>71</td>\n",
       "      <td>SUBN</td>\n",
       "      <td>HONDA</td>\n",
       "      <td>P</td>\n",
       "      <td>...</td>\n",
       "      <td>BBBBBBB</td>\n",
       "      <td>ALL</td>\n",
       "      <td>ALL</td>\n",
       "      <td>NaN</td>\n",
       "      <td>0.0</td>\n",
       "      <td>2006.0</td>\n",
       "      <td>-</td>\n",
       "      <td>0.0</td>\n",
       "      <td>NaN</td>\n",
       "      <td>NaN</td>\n",
       "    </tr>\n",
       "    <tr>\n",
       "      <th>3</th>\n",
       "      <td>6338606</td>\n",
       "      <td>7713806271</td>\n",
       "      <td>EDU1026</td>\n",
       "      <td>NY</td>\n",
       "      <td>PAS</td>\n",
       "      <td>03/20/2014</td>\n",
       "      <td>21</td>\n",
       "      <td>SUBN</td>\n",
       "      <td>TOYOT</td>\n",
       "      <td>T</td>\n",
       "      <td>...</td>\n",
       "      <td>Y  Y</td>\n",
       "      <td>1130A</td>\n",
       "      <td>0100P</td>\n",
       "      <td>GY</td>\n",
       "      <td>NaN</td>\n",
       "      <td>2008.0</td>\n",
       "      <td>NaN</td>\n",
       "      <td>0.0</td>\n",
       "      <td>14 4</td>\n",
       "      <td>21-No Parking (street clean)</td>\n",
       "    </tr>\n",
       "    <tr>\n",
       "      <th>4</th>\n",
       "      <td>2823881</td>\n",
       "      <td>7645478044</td>\n",
       "      <td>DXX6460</td>\n",
       "      <td>NY</td>\n",
       "      <td>PAS</td>\n",
       "      <td>11/01/2013</td>\n",
       "      <td>20</td>\n",
       "      <td>4DSD</td>\n",
       "      <td>HONDA</td>\n",
       "      <td>T</td>\n",
       "      <td>...</td>\n",
       "      <td>YYYYY</td>\n",
       "      <td>0800A</td>\n",
       "      <td>0600P</td>\n",
       "      <td>MR</td>\n",
       "      <td>NaN</td>\n",
       "      <td>1996.0</td>\n",
       "      <td>NaN</td>\n",
       "      <td>0.0</td>\n",
       "      <td>03-A</td>\n",
       "      <td>20A-No Parking (Non-COM)</td>\n",
       "    </tr>\n",
       "    <tr>\n",
       "      <th>...</th>\n",
       "      <td>...</td>\n",
       "      <td>...</td>\n",
       "      <td>...</td>\n",
       "      <td>...</td>\n",
       "      <td>...</td>\n",
       "      <td>...</td>\n",
       "      <td>...</td>\n",
       "      <td>...</td>\n",
       "      <td>...</td>\n",
       "      <td>...</td>\n",
       "      <td>...</td>\n",
       "      <td>...</td>\n",
       "      <td>...</td>\n",
       "      <td>...</td>\n",
       "      <td>...</td>\n",
       "      <td>...</td>\n",
       "      <td>...</td>\n",
       "      <td>...</td>\n",
       "      <td>...</td>\n",
       "      <td>...</td>\n",
       "      <td>...</td>\n",
       "    </tr>\n",
       "    <tr>\n",
       "      <th>9995</th>\n",
       "      <td>51871</td>\n",
       "      <td>1359994981</td>\n",
       "      <td>42799JW</td>\n",
       "      <td>NY</td>\n",
       "      <td>COM</td>\n",
       "      <td>07/24/2013</td>\n",
       "      <td>14</td>\n",
       "      <td>VAN</td>\n",
       "      <td>FRG</td>\n",
       "      <td>P</td>\n",
       "      <td>...</td>\n",
       "      <td>BBBBBBB</td>\n",
       "      <td>ALL</td>\n",
       "      <td>ALL</td>\n",
       "      <td>WHIT</td>\n",
       "      <td>0.0</td>\n",
       "      <td>2007.0</td>\n",
       "      <td>-</td>\n",
       "      <td>0.0</td>\n",
       "      <td>NaN</td>\n",
       "      <td>NaN</td>\n",
       "    </tr>\n",
       "    <tr>\n",
       "      <th>9996</th>\n",
       "      <td>2178598</td>\n",
       "      <td>7531580299</td>\n",
       "      <td>BLANKPLATE</td>\n",
       "      <td>99</td>\n",
       "      <td>999</td>\n",
       "      <td>10/10/2013</td>\n",
       "      <td>21</td>\n",
       "      <td>MCY</td>\n",
       "      <td>TRIUM</td>\n",
       "      <td>T</td>\n",
       "      <td>...</td>\n",
       "      <td>Y</td>\n",
       "      <td>1130A</td>\n",
       "      <td>0100P</td>\n",
       "      <td>BLACK</td>\n",
       "      <td>NaN</td>\n",
       "      <td>0.0</td>\n",
       "      <td>NaN</td>\n",
       "      <td>0.0</td>\n",
       "      <td>01 -</td>\n",
       "      <td>21-No Parking (street clean)</td>\n",
       "    </tr>\n",
       "    <tr>\n",
       "      <th>9997</th>\n",
       "      <td>5536586</td>\n",
       "      <td>1353773541</td>\n",
       "      <td>FXW2962</td>\n",
       "      <td>NY</td>\n",
       "      <td>PAS</td>\n",
       "      <td>02/21/2014</td>\n",
       "      <td>16</td>\n",
       "      <td>SDN</td>\n",
       "      <td>MAZDA</td>\n",
       "      <td>T</td>\n",
       "      <td>...</td>\n",
       "      <td>BBBBBBB</td>\n",
       "      <td>0  :</td>\n",
       "      <td>0  :</td>\n",
       "      <td>GR</td>\n",
       "      <td>0.0</td>\n",
       "      <td>1996.0</td>\n",
       "      <td>-</td>\n",
       "      <td>0.0</td>\n",
       "      <td>NaN</td>\n",
       "      <td>NaN</td>\n",
       "    </tr>\n",
       "    <tr>\n",
       "      <th>9998</th>\n",
       "      <td>1127482</td>\n",
       "      <td>7207594008</td>\n",
       "      <td>CLR2162</td>\n",
       "      <td>NY</td>\n",
       "      <td>PAS</td>\n",
       "      <td>09/05/2013</td>\n",
       "      <td>37</td>\n",
       "      <td>4DSD</td>\n",
       "      <td>HONDA</td>\n",
       "      <td>T</td>\n",
       "      <td>...</td>\n",
       "      <td>Y</td>\n",
       "      <td>0800A</td>\n",
       "      <td>1000P</td>\n",
       "      <td>SILVE</td>\n",
       "      <td>NaN</td>\n",
       "      <td>2006.0</td>\n",
       "      <td>495-0067</td>\n",
       "      <td>0.0</td>\n",
       "      <td>52-P</td>\n",
       "      <td>37-Expired Muni Meter</td>\n",
       "    </tr>\n",
       "    <tr>\n",
       "      <th>9999</th>\n",
       "      <td>2822344</td>\n",
       "      <td>7536561775</td>\n",
       "      <td>DJG9703</td>\n",
       "      <td>NY</td>\n",
       "      <td>PAS</td>\n",
       "      <td>11/01/2013</td>\n",
       "      <td>46</td>\n",
       "      <td>SUBN</td>\n",
       "      <td>HONDA</td>\n",
       "      <td>T</td>\n",
       "      <td>...</td>\n",
       "      <td>NaN</td>\n",
       "      <td>NaN</td>\n",
       "      <td>NaN</td>\n",
       "      <td>BLACK</td>\n",
       "      <td>NaN</td>\n",
       "      <td>2005.0</td>\n",
       "      <td>NaN</td>\n",
       "      <td>0.0</td>\n",
       "      <td>06 -</td>\n",
       "      <td>46A-Double Parking (Non-COM)</td>\n",
       "    </tr>\n",
       "  </tbody>\n",
       "</table>\n",
       "<p>10000 rows × 41 columns</p>\n",
       "</div>"
      ],
      "text/plain": [
       "      Unnamed: 0  Summons Number    Plate ID Registration State Plate Type  \\\n",
       "0        7192124      7684215310     24824MD                 NY        COM   \n",
       "1        1399831      5070680213    9TOPCLAS                 NY        OMT   \n",
       "2        5369188      1356951855     GEL1573                 NY        PAS   \n",
       "3        6338606      7713806271     EDU1026                 NY        PAS   \n",
       "4        2823881      7645478044     DXX6460                 NY        PAS   \n",
       "...          ...             ...         ...                ...        ...   \n",
       "9995       51871      1359994981     42799JW                 NY        COM   \n",
       "9996     2178598      7531580299  BLANKPLATE                 99        999   \n",
       "9997     5536586      1353773541     FXW2962                 NY        PAS   \n",
       "9998     1127482      7207594008     CLR2162                 NY        PAS   \n",
       "9999     2822344      7536561775     DJG9703                 NY        PAS   \n",
       "\n",
       "      Issue Date  Violation Code Vehicle Body Type Vehicle Make  \\\n",
       "0     04/23/2014              71               VAN         FRIG   \n",
       "1     09/14/2013               7              4DSD        DODGE   \n",
       "2     02/13/2014              71              SUBN        HONDA   \n",
       "3     03/20/2014              21              SUBN        TOYOT   \n",
       "4     11/01/2013              20              4DSD        HONDA   \n",
       "...          ...             ...               ...          ...   \n",
       "9995  07/24/2013              14               VAN          FRG   \n",
       "9996  10/10/2013              21               MCY        TRIUM   \n",
       "9997  02/21/2014              16               SDN        MAZDA   \n",
       "9998  09/05/2013              37              4DSD        HONDA   \n",
       "9999  11/01/2013              46              SUBN        HONDA   \n",
       "\n",
       "     Issuing Agency  ...  Days Parking In Effect      From Hours In Effect  \\\n",
       "0                 T  ...                     YYYYYYY                   NaN   \n",
       "1                 V  ...                         NaN                   NaN   \n",
       "2                 P  ...                     BBBBBBB                   ALL   \n",
       "3                 T  ...                        Y  Y                 1130A   \n",
       "4                 T  ...                       YYYYY                 0800A   \n",
       "...             ...  ...                         ...                   ...   \n",
       "9995              P  ...                     BBBBBBB                   ALL   \n",
       "9996              T  ...                           Y                 1130A   \n",
       "9997              T  ...                     BBBBBBB                  0  :   \n",
       "9998              T  ...                           Y                 0800A   \n",
       "9999              T  ...                         NaN                   NaN   \n",
       "\n",
       "      To Hours In Effect  Vehicle Color  Unregistered Vehicle?  Vehicle Year  \\\n",
       "0                    NaN             WH                    NaN        2004.0   \n",
       "1                    NaN             BK                    NaN        2008.0   \n",
       "2                    ALL            NaN                    0.0        2006.0   \n",
       "3                  0100P             GY                    NaN        2008.0   \n",
       "4                  0600P             MR                    NaN        1996.0   \n",
       "...                  ...            ...                    ...           ...   \n",
       "9995                 ALL           WHIT                    0.0        2007.0   \n",
       "9996               0100P          BLACK                    NaN           0.0   \n",
       "9997                0  :             GR                    0.0        1996.0   \n",
       "9998               1000P          SILVE                    NaN        2006.0   \n",
       "9999                 NaN          BLACK                    NaN        2005.0   \n",
       "\n",
       "      Meter Number  Feet From Curb Violation Post Code  \\\n",
       "0              NaN             0.0                01 4   \n",
       "1              NaN             0.0                 NaN   \n",
       "2                -             0.0                 NaN   \n",
       "3              NaN             0.0                14 4   \n",
       "4              NaN             0.0                03-A   \n",
       "...            ...             ...                 ...   \n",
       "9995             -             0.0                 NaN   \n",
       "9996           NaN             0.0                01 -   \n",
       "9997             -             0.0                 NaN   \n",
       "9998      495-0067             0.0                52-P   \n",
       "9999           NaN             0.0                06 -   \n",
       "\n",
       "               Violation Description  \n",
       "0     71A-Insp Sticker Expired (NYS)  \n",
       "1       FAILURE TO STOP AT RED LIGHT  \n",
       "2                                NaN  \n",
       "3       21-No Parking (street clean)  \n",
       "4           20A-No Parking (Non-COM)  \n",
       "...                              ...  \n",
       "9995                             NaN  \n",
       "9996    21-No Parking (street clean)  \n",
       "9997                             NaN  \n",
       "9998           37-Expired Muni Meter  \n",
       "9999    46A-Double Parking (Non-COM)  \n",
       "\n",
       "[10000 rows x 41 columns]"
      ]
     },
     "execution_count": 6,
     "metadata": {},
     "output_type": "execute_result"
    }
   ],
   "source": [
    "import pandas as pd\n",
    "\n",
    "df = pd.read_csv(\"sample_NYC_parking_issues.csv\", sep = \";\")\n",
    "df = df.dropna(axis = 1, how = \"all\")\n",
    "df"
   ]
  },
  {
   "cell_type": "markdown",
   "metadata": {},
   "source": [
    "### B) Elimina todas las muestras donde la fecha no tenga coherencia: `Vehicle Year`, además transformalas a enteros (2024,2012,2006,etc.)"
   ]
  },
  {
   "cell_type": "code",
   "execution_count": 11,
   "metadata": {},
   "outputs": [],
   "source": [
    "df[\"Vehicle Year\"] = df[\"Vehicle Year\"][df[\"Vehicle Year\"] > 1].astype(\"Int64\")"
   ]
  },
  {
   "cell_type": "markdown",
   "metadata": {},
   "source": [
    "### C) Hay marcas de vehículos que no guardan sentido con ninguna marca real (`Vehicle Make`) elimina dichas muestras. Deja constancia de cuantas has borrado."
   ]
  },
  {
   "cell_type": "code",
   "execution_count": 13,
   "metadata": {},
   "outputs": [
    {
     "data": {
      "text/plain": [
       "array(['FRIG', 'DODGE', 'HONDA', 'TOYOT', 'VOLKS', 'INTER', 'FORD', 'BMW',\n",
       "       'GMC', 'ME/BE', 'NISSA', 'CHEVR', 'ISUZU', 'SAAB', 'INFIN',\n",
       "       'PLYMO', 'FRUEH', 'LEXUS', 'VOLVO', nan, 'MERCU', 'ACURA', 'NS/OT',\n",
       "       'MITSU', 'PETER', 'LINCO', 'HYUND', 'CHRYS', 'CADIL', 'WORK',\n",
       "       'SUBAR', 'PREV', 'PONTI', 'ROVER', 'JEEP', 'MAZDA', 'LEXCO',\n",
       "       'WORKH', 'AUDI', 'PORSC', 'FREI', 'JAGUA', 'MACK', 'MINI', 'STERL',\n",
       "       'MCI', 'HINO', 'KIA', 'KENWO', 'WHITE', 'SCION', 'BENTL', 'UTIL',\n",
       "       'SOLEC', 'HARLE', 'VESPA', 'BUICK', 'MI/F', 'SATUR', 'NAVIS',\n",
       "       'OLDSM', 'UD', 'CHECK', 'STARC', 'VAN H', 'SMITH', 'PREVO',\n",
       "       'PRATT', 'STUDE', 'SUZUK', 'FR/LI', 'UTILI', 'TRLR', 'CHEET',\n",
       "       'SMART', 'HUMME', 'UTITY', 'N/S', 'W', 'KAWAS', 'FIAT', 'FR/L',\n",
       "       'FR L', 'FRGHT', 'ICENE', 'TRAIL', 'FUSO', 'WO/C', 'THD', 'STAR',\n",
       "       'KW', 'GEM', 'MASSA', 'VOK', 'TEAMA', 'RNG R', 'VAN', 'WANC',\n",
       "       'VOLU', 'LIMO', 'FONTA', 'BL/B', 'KENW', 'GREAT', 'KRYS', 'DATSU',\n",
       "       'SZI', 'TRIUM', 'UPS', 'HERCU', 'YAMAH', 'GIDNY', 'SPRI', 'FERRA',\n",
       "       'VL', 'WOR', 'AMC', 'PUTEL', 'GEO', 'EAST', 'FRG'], dtype=object)"
      ]
     },
     "execution_count": 13,
     "metadata": {},
     "output_type": "execute_result"
    }
   ],
   "source": [
    "df[\"Vehicle Make\"].unique()"
   ]
  },
  {
   "cell_type": "markdown",
   "metadata": {
    "vscode": {
     "languageId": "plaintext"
    }
   },
   "source": [
    "### D) Representa en un grafíco de barras la cantidad de vehículos (por marca `Vehicle Make`) "
   ]
  },
  {
   "cell_type": "code",
   "execution_count": 30,
   "metadata": {},
   "outputs": [
    {
     "data": {
      "text/plain": [
       "<Axes: xlabel='Vehicle Make'>"
      ]
     },
     "execution_count": 30,
     "metadata": {},
     "output_type": "execute_result"
    },
    {
     "data": {
      "image/png": "[encoded data removed]",
      "text/plain": [
       "<Figure size 640x480 with 1 Axes>"
      ]
     },
     "metadata": {},
     "output_type": "display_data"
    }
   ],
   "source": [
    "#df.letters.value_counts().sort_values().plot(kind = 'barh')\n",
    "\n",
    "df[\"Vehicle Make\"].value_counts().plot(kind = \"bar\")"
   ]
  },
  {
   "cell_type": "code",
   "execution_count": 20,
   "metadata": {},
   "outputs": [
    {
     "data": {
      "text/plain": [
       "Vehicle Make\n",
       "GREAT    1\n",
       "KENW     1\n",
       "KRYS     1\n",
       "DATSU    1\n",
       "LIMO     1\n",
       "SZI      1\n",
       "VL       1\n",
       "UPS      1\n",
       "HERCU    1\n",
       "YAMAH    1\n",
       "GIDNY    1\n",
       "SPRI     1\n",
       "FERRA    1\n",
       "WOR      1\n",
       "AMC      1\n",
       "PUTEL    1\n",
       "WANC     1\n",
       "EAST     1\n",
       "GEO      1\n",
       "VOLU     1\n",
       "FRIG     1\n",
       "VAN      1\n",
       "RNG R    1\n",
       "PREV     1\n",
       "LEXCO    1\n",
       "BENTL    1\n",
       "SOLEC    1\n",
       "NAVIS    1\n",
       "PRATT    1\n",
       "STUDE    1\n",
       "CHEET    1\n",
       "UTITY    1\n",
       "N/S      1\n",
       "W        1\n",
       "FR/L     1\n",
       "FR L     1\n",
       "FRGHT    1\n",
       "ICENE    1\n",
       "FUSO     1\n",
       "THD      1\n",
       "GEM      1\n",
       "MASSA    1\n",
       "VOK      1\n",
       "TEAMA    1\n",
       "FRG      1\n",
       "Name: count, dtype: int64"
      ]
     },
     "execution_count": 20,
     "metadata": {},
     "output_type": "execute_result"
    }
   ],
   "source": [
    "df[\"Vehicle Make\"].value_counts()[df[\"Vehicle Make\"].value_counts() == 1]"
   ]
  },
  {
   "cell_type": "markdown",
   "metadata": {},
   "source": [
    "### E) Unifica lo máximo que puedas la terminología de colores. Por ejemplo, valores como `WH` y `wh`y `wh\\`hacen referencia al `white`"
   ]
  },
  {
   "cell_type": "code",
   "execution_count": 25,
   "metadata": {},
   "outputs": [
    {
     "data": {
      "text/plain": [
       "array(['WH', 'BK', nan, 'GY', 'MR', 'GD', 'RD', 'BR', 'TAN', 'BL',\n",
       "       'WHITE', 'BROWN', 'WT', 'BLUE', 'GRAY', 'YELLO', 'BLACK', 'SILVE',\n",
       "       'RED', 'BLK', 'TN', 'GREEN', 'OTHER', 'YW', 'ORANG', 'DKB', 'GREY',\n",
       "       'GOLD', 'GR', 'BRN', 'PR', 'LTP', 'GRN', 'DKGY', 'SILV', 'DKG',\n",
       "       'WHT', 'GL', 'GREN', 'WTH', 'WH-BL', 'SIL', 'MAROO', 'BUY', 'GRY',\n",
       "       'GYT', 'OR', 'SL', 'LTGY', 'YL', 'BEIGE', 'LTBL', 'WHIT', 'BN',\n",
       "       'LTG', 'LT/', 'W', 'NOCL', 'GN', 'WHR', 'BKACK', 'GYW', 'BLU',\n",
       "       'GY/', 'BURG', 'WHI', 'NOC', 'B', 'BG', 'R', 'GRG', 'SILVR', 'YEL',\n",
       "       'BKJ', 'GYGY', 'VAN', 'DK/', 'PURPL', 'WH/', 'DKR', 'BLK/B', 'TEN',\n",
       "       'UNKNO', 'YELOW', 'SLVR', 'BROW', 'BLGY', 'TNGR', 'BK-RD', 'DKBL',\n",
       "       'TOPAZ', 'MC', 'RB', 'GY-GY', 'BRW', 'WGUTE', 'SLV', 'GLD', 'RD/',\n",
       "       'BLG', 'LTB', 'BUS', 'GYTN', 'GRT', 'GYBR', 'PUR', 'BKBR'],\n",
       "      dtype=object)"
      ]
     },
     "execution_count": 25,
     "metadata": {},
     "output_type": "execute_result"
    }
   ],
   "source": [
    "df[\"Vehicle Color\"].unique()"
   ]
  },
  {
   "cell_type": "markdown",
   "metadata": {},
   "source": [
    "### F) Representa en un gráfico de barras las marca de vehículo segmentadas por colores de vehículos."
   ]
  },
  {
   "cell_type": "code",
   "execution_count": null,
   "metadata": {},
   "outputs": [],
   "source": []
  },
  {
   "cell_type": "markdown",
   "metadata": {},
   "source": [
    "### H) Subé este código a tu repositorio. Incluye un documento Readme.md Indicando tan solo: \"H\""
   ]
  },
  {
   "cell_type": "markdown",
   "metadata": {},
   "source": [
    "### I) Convierte la serie `Issue Date` en una serie temporal y contabiliza las multas por `Violation Code[] y més del Issue Date."
   ]
  },
  {
   "cell_type": "code",
   "execution_count": 26,
   "metadata": {},
   "outputs": [
    {
     "data": {
      "text/plain": [
       "0       04/23/2014\n",
       "1       09/14/2013\n",
       "2       02/13/2014\n",
       "3       03/20/2014\n",
       "4       11/01/2013\n",
       "           ...    \n",
       "9995    07/24/2013\n",
       "9996    10/10/2013\n",
       "9997    02/21/2014\n",
       "9998    09/05/2013\n",
       "9999    11/01/2013\n",
       "Name: Issue Date, Length: 10000, dtype: object"
      ]
     },
     "execution_count": 26,
     "metadata": {},
     "output_type": "execute_result"
    }
   ],
   "source": [
    "df[\"Issue Date\"]"
   ]
  },
  {
   "cell_type": "code",
   "execution_count": 28,
   "metadata": {},
   "outputs": [
    {
     "data": {
      "text/plain": [
       "0       71\n",
       "1        7\n",
       "2       71\n",
       "3       21\n",
       "4       20\n",
       "        ..\n",
       "9995    14\n",
       "9996    21\n",
       "9997    16\n",
       "9998    37\n",
       "9999    46\n",
       "Name: Violation Code, Length: 10000, dtype: int64"
      ]
     },
     "execution_count": 28,
     "metadata": {},
     "output_type": "execute_result"
    }
   ],
   "source": [
    "df[\"Violation Code\"]"
   ]
  },
  {
   "cell_type": "markdown",
   "metadata": {},
   "source": [
    "### J) Visualiza la anterior cuestión (I)"
   ]
  },
  {
   "cell_type": "markdown",
   "metadata": {},
   "source": []
  },
  {
   "cell_type": "markdown",
   "metadata": {},
   "source": [
    "### K) Subé este código a tu repositorio. Sustituye la 'H' del readme.md por un 'end'"
   ]
  },
  {
   "cell_type": "markdown",
   "metadata": {},
   "source": []
  }
 ],
 "metadata": {
  "kernelspec": {
   "display_name": "Python 3 (ipykernel)",
   "language": "python",
   "name": "python3"
  },
  "language_info": {
   "codemirror_mode": {
    "name": "ipython",
    "version": 3
   },
   "file_extension": ".py",
   "mimetype": "text/x-python",
   "name": "python",
   "nbconvert_exporter": "python",
   "pygments_lexer": "ipython3",
   "version": "3.10.13"
  }
 },
 "nbformat": 4,
 "nbformat_minor": 2
}
